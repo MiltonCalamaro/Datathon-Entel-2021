{
 "cells": [
  {
   "cell_type": "markdown",
   "metadata": {
    "_uuid": "0adb8e948fa03b382f7c3e9f5be3d64252b18aa8"
   },
   "source": [
    "## 1. Introducción\n",
    "Esta es una red neuronal convolucional secuencial de 5 capas para entrenar el reconocimiento de dígitos en el dataset recolectado de este concurso. Se ha seleccionado construir la red con la API keras (Tensorflow backend), la cual es muy intuitiva. Primero, se van a preparar los datos (imágenes de dígitos escritos a mano) luego se enfocará en el modelado y evaluación de la CNN."
   ]
  },
  {
   "cell_type": "code",
   "execution_count": 1,
   "metadata": {},
   "outputs": [],
   "source": [
    "#!pip install seaborn "
   ]
  },
  {
   "cell_type": "code",
   "execution_count": 2,
   "metadata": {
    "_cell_guid": "b1076dfc-b9ad-4769-8c92-a6c4dae69d19",
    "_uuid": "8f2839f25d086af736a60e9eeb907d3b93b6e0e5",
    "scrolled": true
   },
   "outputs": [],
   "source": [
    "import pandas as pd\n",
    "import numpy as np\n",
    "import matplotlib.pyplot as plt\n",
    "import matplotlib.image as mpimg\n",
    "import seaborn as sns\n",
    "%matplotlib inline\n",
    "\n",
    "np.random.seed(2)\n",
    "\n",
    "from sklearn.model_selection import train_test_split\n",
    "from sklearn.metrics import confusion_matrix\n",
    "import itertools\n",
    "\n",
    "from keras.utils.np_utils import to_categorical # convert to one-hot-encoding\n",
    "from keras.models import Sequential\n",
    "from keras.layers import Dense, Dropout, Flatten, Conv2D, MaxPool2D\n",
    "from keras.optimizers import RMSprop\n",
    "from keras.preprocessing.image import ImageDataGenerator\n",
    "from keras.callbacks import ReduceLROnPlateau\n",
    "\n",
    "\n",
    "sns.set(style='white', context='notebook', palette='deep')"
   ]
  },
  {
   "cell_type": "markdown",
   "metadata": {
    "_cell_guid": "79c7e3d0-c299-4dcb-8224-4455121ee9b0",
    "_uuid": "d629ff2d2480ee46fbb7e2d37f6b5fab8052498a"
   },
   "source": [
    "## 2. Preparación de Datos\n",
    "\n",
    "### 2.1 Carga de datos"
   ]
  },
  {
   "cell_type": "code",
   "execution_count": 3,
   "metadata": {},
   "outputs": [
    {
     "data": {
      "text/plain": [
       "((1834, 28, 28), (1834,))"
      ]
     },
     "execution_count": 3,
     "metadata": {},
     "output_type": "execute_result"
    }
   ],
   "source": [
    "X_train = []\n",
    "import os\n",
    "import cv2\n",
    "df = pd.read_csv('../data/label_digitos.csv', sep = ',', encoding='utf-8')\n",
    "for i in df.name:\n",
    "    img = cv2.imread(f'../data/images_digitos/{i}')\n",
    "    img = cv2.cvtColor(img, cv2.COLOR_BGR2GRAY)\n",
    "    img = cv2.resize(img, (28,28))\n",
    "    X_train.append(img)\n",
    "X_train = np.array(X_train)\n",
    "Y_train = df.label\n",
    "X_train.shape, Y_train.shape"
   ]
  },
  {
   "cell_type": "markdown",
   "metadata": {
    "_uuid": "07796e0741db29365cfb52702a5a8a5f5a633170"
   },
   "source": [
    "### 2.3 Normalización\n",
    "\n",
    "Se realizará una normalización de escala de grises para reducir el efecto de las diferencias de iluminación.\n",
    "\n",
    "Además la red neuronal convolucional (CNN) convergerá más rápido en datos entre [0..1]  que en [0..255]."
   ]
  },
  {
   "cell_type": "code",
   "execution_count": 4,
   "metadata": {
    "_uuid": "927937e757007dd18a7612578549b6fdff79aea3"
   },
   "outputs": [],
   "source": [
    "# Se cambia la forma de la imagen en 3 dimensiones (alto = 28px, ancho=28px, canal =1)\n",
    "X_train = X_train.reshape(-1,28,28,1)\n",
    "X_train = X_train/255.0"
   ]
  },
  {
   "cell_type": "code",
   "execution_count": 5,
   "metadata": {},
   "outputs": [
    {
     "data": {
      "text/plain": [
       "(1834, 28, 28, 1)"
      ]
     },
     "execution_count": 5,
     "metadata": {},
     "output_type": "execute_result"
    }
   ],
   "source": [
    "X_train.shape"
   ]
  },
  {
   "cell_type": "markdown",
   "metadata": {
    "_uuid": "32e68ffc911e33028b67c982f9ad6d67e0571d47"
   },
   "source": [
    "Las imagenes de entrenamiento y prueba (28px x 28px) han sido cargadas en pandas.Dataframe como vectores de 1D de 784 valores. Se reformatean los datos a matrices 3D 28x28x1. \n",
    "\n",
    "Keras necesita una dimensión extra al final que corresponde a los canales. Como las imágenes MNIST son en la escala de grises, solo utilizan un canal. Para las imágenes RGB, hay 3 canales, las cuales deberían ser reformadas a 784 vectores a matrices 3D de 28x28x3.\n",
    "\n",
    "### 2.5 Codificación de las etiquetas (target)"
   ]
  },
  {
   "cell_type": "code",
   "execution_count": 6,
   "metadata": {
    "_uuid": "204d0b5b540f7502a77f5070885c86ec215918c0"
   },
   "outputs": [
    {
     "data": {
      "text/plain": [
       "array([[0., 0., 0., ..., 0., 0., 0.],\n",
       "       [0., 0., 1., ..., 0., 0., 0.],\n",
       "       [0., 1., 0., ..., 0., 0., 0.],\n",
       "       ...,\n",
       "       [1., 0., 0., ..., 0., 0., 0.],\n",
       "       [0., 0., 0., ..., 0., 0., 0.],\n",
       "       [1., 0., 0., ..., 0., 0., 0.]], dtype=float32)"
      ]
     },
     "execution_count": 6,
     "metadata": {},
     "output_type": "execute_result"
    }
   ],
   "source": [
    "# Codificar las etiquetas a un vector (por ejemplo: 2 -> [0,0,1,0,0,0,0,0,0,0])\n",
    "Y_train = to_categorical(Y_train, num_classes = 11)\n",
    "Y_train"
   ]
  },
  {
   "cell_type": "code",
   "execution_count": 7,
   "metadata": {},
   "outputs": [
    {
     "data": {
      "text/plain": [
       "(1834, 11)"
      ]
     },
     "execution_count": 7,
     "metadata": {},
     "output_type": "execute_result"
    }
   ],
   "source": [
    "Y_train.shape"
   ]
  },
  {
   "cell_type": "markdown",
   "metadata": {
    "_uuid": "f358d29cbe4e9d737812834208d826c0814d4ce6"
   },
   "source": [
    "Etiquetas son números de 10 dígitos desde 0 a 9. Necesitamos codificar estas etiquetas a un vector (ej : 2 -> [0,0,1,0,0,0,0,0,0,0]).\n",
    "\n",
    "## 2.6 Separar los grupos de entrenamiento y validación"
   ]
  },
  {
   "cell_type": "code",
   "execution_count": 8,
   "metadata": {
    "_uuid": "5959f90df35fd89e446ffec6c5aeec638f363135"
   },
   "outputs": [
    {
     "data": {
      "text/plain": [
       "((1650, 28, 28, 1), (184, 28, 28, 1), (1650, 11), (184, 11))"
      ]
     },
     "execution_count": 8,
     "metadata": {},
     "output_type": "execute_result"
    }
   ],
   "source": [
    "# Separar los grupos de entrenamiento y validación para el ajuste del modelo\n",
    "X_train, X_val, Y_train, Y_val = train_test_split(X_train, Y_train, test_size = 0.1, random_state=2, stratify = Y_train)\n",
    "X_train.shape, X_val.shape, Y_train.shape, Y_val.shape"
   ]
  },
  {
   "cell_type": "markdown",
   "metadata": {
    "_uuid": "923d2160a10930f238767703390d7ebf4097c496"
   },
   "source": [
    "Se decidió dividir el conjunto de entrenamiento en dos partes: una pequeña fracción (10%) será el conjunto de validación, el cual se utiliza para evaluar al modelo, y el resto (90%) es utilizado para entrenar el modelo.\n",
    "\n",
    "Como tenemos 327 imagenes de entrenamiento con etiquetas desbalancedas, una división aleatoria del conjunto de entrenamiento causaría que algunas etiquetas sean sobrerepresentadas en al conjunto de validación. Se debe ser cuidadoso con los dataset no balanceados dado que una división simple aleatoria puede causar la evaluación incorrecta durante la validación.\n",
    "\n",
    "Para evitar esto, se puede utilizar la opción \"stratify = True\" en la función de división de entrenamiento y prueba (solo para >= 0.17 sklearn )."
   ]
  },
  {
   "cell_type": "code",
   "execution_count": 9,
   "metadata": {
    "_uuid": "f663bda7b01c8cbcbd77ab1f84187071f337d9ee"
   },
   "outputs": [
    {
     "data": {
      "image/png": "[encoded data removed]",
      "text/plain": [
       "<Figure size 432x288 with 1 Axes>"
      ]
     },
     "metadata": {},
     "output_type": "display_data"
    }
   ],
   "source": [
    "# Algunos ejemplos\n",
    "g = plt.imshow(X_train[2][:,:,0])"
   ]
  },
  {
   "cell_type": "markdown",
   "metadata": {
    "_uuid": "69cbaac77dc9b5677d20c2debb9aaf2f4a8ebd9f"
   },
   "source": [
    "## 3. CNN\n",
    "\n",
    "### 3.1 Definir el modelo"
   ]
  },
  {
   "cell_type": "markdown",
   "metadata": {
    "_uuid": "e5f7333d17c5ea8fd6c51ae7bd2430b6ce64011c"
   },
   "source": [
    "Se utilizó Keras Sequencial API, donde se puede agregar una capa a la vez, comenzando desde la entrada.\n",
    "\n",
    "La primera es la capa convolucional (Conv2D). Es como un conjunto de filtros que aprenden. Se seleccionó 32 filtros para los dos primeras capas conv2D y 64 filtros para las últimas dos. Cada filtro transforma parte de la imagen (definido por el tamaño del kernel) utilizando el filtro del kernel. La matriz del filtro del kernel es aplicada a toda la imange. Los filtros puede ser vistos como una transformación de la imagen. \n",
    "\n",
    "La CNN puede aislar características que son útiles de las imágenes transformadas (mapas de características). \n",
    "\n",
    "La segunda capa importante en la CNN es la capa de pooling (MaxPool2D). Esta capa simplemente actual como un filtro de downsampling (disminución de muestreo??). Se fija en los 2 píxeles vecinos y selecciona el de valor máximo. Estos son utilizados para reducir el costo computacional, y en algún punto reducir el overfitting (sobreajuste). Tendremos que seleccionar el tamaño de pooling  (ej. el tamaño del area pooled cada vez), mientras más grande es la dimensión del pooling, más importante es el downsampling. \n",
    "\n",
    "Combinando capas convolucionales y de pooling, las CNN son capaces de combinar características locales y aprender características más globale de la imagen.\n",
    "\n",
    "Dropout es un método de regularización, donde una proporción de los nodos en la capa son ignorados de manera aleatoria (cambiando sus pesos a cero ) para cada muestra de entrenamiento. Esto elimina aleatoriamente una proporción de la red y fuerza a la red a aprender nuevas características en una forma distribuida. Esta técnica también mejora la generalización y reduce el overfitting (sobreajuste).\n",
    "\n",
    "'relu' es un rectificador, función de activación max(0,x). La función rectificadora de activación es utilizada para agregar no linearidad a la red.\n",
    "\n",
    "La capa Flatten es utilizada para convertir los mapas de la característica final en un simple vector 1D. Este paso de (flatten) alisamiento?? es necesario para que se puedan utilizar capas completamente conectadas después de algunas capas convolucionales/maxpool. Combina todas las caracteristicas encontradas de las capas convolucionales previas.\n",
    "\n",
    "Al final se usan las características en dos capas (Dense) completemanete conectadas (fully-connected) el cual es solamente una un clasificador de neuronal artificial (ANN) . En la última capa (Dense(10,activation=\"softmax\")) la red realiza/produce una distribución de probabilidad para cada clase. "
   ]
  },
  {
   "cell_type": "code",
   "execution_count": 10,
   "metadata": {
    "_uuid": "3b4fa9004afc4e08cb7b918b6ab1435837a36d8c"
   },
   "outputs": [],
   "source": [
    "# Configurar el modelo CNN (Convolutional Neural Network)\n",
    "# la arquitecture CNN es -> [[Conv2D->relu]*2 -> MaxPool2D -> Dropout]*2 -> Flatten -> Dense -> Dropout -> Out\n",
    "\n",
    "model = Sequential()\n",
    "\n",
    "model.add(Conv2D(filters = 32, kernel_size = (5,5),padding = 'Same', activation ='relu', input_shape = (28,28,1)))\n",
    "model.add(Conv2D(filters = 32, kernel_size = (5,5),padding = 'Same', activation ='relu'))\n",
    "model.add(MaxPool2D(pool_size=(2,2)))\n",
    "model.add(Dropout(0.25))\n",
    "\n",
    "model.add(Conv2D(filters = 64, kernel_size = (3,3),padding = 'Same', activation ='relu'))\n",
    "model.add(Conv2D(filters = 64, kernel_size = (3,3),padding = 'Same', activation ='relu'))\n",
    "model.add(MaxPool2D(pool_size=(2,2), strides=(2,2)))\n",
    "model.add(Dropout(0.25))\n",
    "\n",
    "\n",
    "model.add(Flatten())\n",
    "model.add(Dense(256, activation = \"relu\"))\n",
    "model.add(Dropout(0.5))\n",
    "model.add(Dense(11, activation = \"softmax\"))"
   ]
  },
  {
   "cell_type": "markdown",
   "metadata": {
    "_uuid": "5f99c62768c1d58f9b33d99553863ca3e46f7029"
   },
   "source": [
    "## 3.2 Configurar el optimizador y annealer (templado??)\n",
    "\n",
    "Una vez que las capas son agregadas al modelo, se necesita configurar la función de score (puntuación, calificación), una función de pérdida y un algoritmo de optimización.\n",
    "\n",
    "Se define la función de pérdida para medir cuan mal le va al modelo con imágenes con etiquetas conocidas. Este es un ratio de error entre las etiquetas observadas y las predichas. Se usa una forma específica para clasificaciones categóricas (>2 clases) llamada \"categorical_crossentropy\" (entropía cruzadas categorica).\n",
    "\n",
    "La función más importante es el optimizador. Esta función literalmente mejorará los parámetros (valores de filtros del kernel, pesos y desvíos (bias) de las neuronas ...) para minimizar la pérdida.\n",
    "\n",
    "Se seleccionó RMSprop (con los valores por defecto), el cual es un optimizador muy efectivo. El cambio RMSProp ajusta el método Adagrad en una forma muy simple en un intento para reducir su ratio de aprendizaje (learning rate) agresivo y monotónicamente decreciente. Se podría haber utilizado el optimizador Gradiente Estocástico Descendiente (Stochastic Gradient Descent - sgd), pero es más lento que RMSProp.\n",
    "\n",
    "La función de metricas \"precisión\" es utilizada para evaluar la \"performance\" (calidad) del modelo. Esta métrica es similar a la función de pérdida, con la excepción de que los resultados de la métrica de evaluación no son utilizados cuando se entrena el modelo (solo para evaluación)."
   ]
  },
  {
   "cell_type": "code",
   "execution_count": 11,
   "metadata": {
    "_uuid": "86bb16c7d379606720e46add0192e169b238a5ef"
   },
   "outputs": [],
   "source": [
    "# Definición del modelo\n",
    "optimizer = RMSprop(lr=0.001, rho=0.9, epsilon=1e-08, decay=0.0)"
   ]
  },
  {
   "cell_type": "code",
   "execution_count": 12,
   "metadata": {
    "_uuid": "28154d6292f7418054b2ec8a0b2f13b19c142843"
   },
   "outputs": [],
   "source": [
    "# Compilar el modelo\n",
    "model.compile(optimizer = optimizer , loss = \"categorical_crossentropy\", metrics=[\"accuracy\"])"
   ]
  },
  {
   "cell_type": "markdown",
   "metadata": {
    "_uuid": "f7165bacddf7624682e2ae9e82c591355f8827a8"
   },
   "source": [
    "Con el objetivo hacer que le optimizador converja más rápido y más cerca al minimo global de la función de pérdida, se ha utilizado un método de templado (annealing) del ratio de aprendizaje (LR).\n",
    "\n",
    "El ratio de aprendizaje (LR) es un paso por el cual el optimizador recorre a través de un \"loss landscape\" (paisaje perdido). Mientras más grande el LR, más grande son los pasos y más rápido convergen. Sin embargo el muestreo es muy pobre con un gran LR y el optimizado probablemente caiga en un mínimo local.\n",
    "\n",
    "Es mejor tener un ratio de aprendizaje decreciente para alcanzar efecientemente el mínimo global de la función de pérdida.\n",
    "\n",
    "Para tomar ventaja del rápido tiempo de computación con un LR grande, se decreció (redujo) el LR dinámicamente cada X pasos (épocas) dependiendo si es necesario ( cuando la presición no mejora).\n",
    "\n",
    "Con la función ReduceLROnPlateau de Keras.callbacks, se eligió reducir el LR por la mitad si la presición no mejora luego de 3 épocas."
   ]
  },
  {
   "cell_type": "code",
   "execution_count": 13,
   "metadata": {
    "_uuid": "7b2572ec911af8ca65734946c459f04c030df11e"
   },
   "outputs": [],
   "source": [
    "# Configurar el templador (annealer) del ratio de aprendizaje (LR)\n",
    "learning_rate_reduction = ReduceLROnPlateau(monitor='val_accuracy',#'val_acc', \n",
    "                                            patience=3, \n",
    "                                            verbose=1, \n",
    "                                            factor=0.5, \n",
    "                                            min_lr=0.00001)"
   ]
  },
  {
   "cell_type": "code",
   "execution_count": 14,
   "metadata": {
    "_uuid": "cfc5822f3d9a9caf4695a339a9885a55cf4fca3e"
   },
   "outputs": [],
   "source": [
    "epochs = 150 # Cambiar las épocas a 30 para obtener una precisión de 0.9967\n",
    "batch_size = 86"
   ]
  },
  {
   "cell_type": "markdown",
   "metadata": {
    "_uuid": "e92d0395795b14b074cdb7a67824b56ef82299e1"
   },
   "source": [
    "## 3.3 Aumento de datos (Data Augmentation)\n",
    "\n",
    "Para evitar un problema de sobreajuste (overfitting), se necesita expandir artificialmente el conjunto de datos de digitos escritos a mano. Se puede hacer el conjunto de datos existente aún más grande. La idea es modificar los datos de entrenamiento con pequeñas transformaciones para reproducir las variaciones que ocurren cuando alguien escribe un dígito.\n",
    "\n",
    "Por ejemplo, el número no está centrado. La escala no es la misma (algunos escriben número grandes o chicos), la imagen está rotada...\n",
    "\n",
    "Métodos que alteran los datos de entrenamiento en formas que cambian la matrix de representación mientras mantienen la misma etiqueta son conocidos como técnicas de aumento de datos (data augmentation). Algunos aumentos de datos conocidos usados son la escala de grises, giros horizontales, giros verticales, manchas aleatorias (random crops), color jitters (cambios de color), traducciones, rotaciones y muchas mas.\n",
    "\n",
    "Al aplicar solo un par de estas transformaciones a nuestros datos de entrenamiento, podemos facilmente duplicar o triplicar el número de ejemplos de entrenamiento y crear un modelo robusto.\n",
    "\n",
    "La mejora es importante:\n",
    "\n",
    "Sin este aumento de datos, se obtendría una precisión de 98,114%\n",
    "Con este aumento de datos se logró una precisión de 99,67%"
   ]
  },
  {
   "cell_type": "code",
   "execution_count": 15,
   "metadata": {
    "_uuid": "e05585be6c47dd5812f882598361f64fb1679a79"
   },
   "outputs": [],
   "source": [
    "# Sin el aumento de datos se obtuvo una precisión de 0,98114\n",
    "#history = model.fit(X_train, Y_train, batch_size = batch_size, epochs = epochs, \n",
    "#          validation_data = (X_val, Y_val), verbose = 2)"
   ]
  },
  {
   "cell_type": "code",
   "execution_count": 16,
   "metadata": {
    "_uuid": "f145ae1ecd8507d9cff84bdb774deedad5e052a5"
   },
   "outputs": [],
   "source": [
    "# con el aumento de datos se previno un sobreajuste (precisión 0,99286)\n",
    "datagen = ImageDataGenerator(\n",
    "        featurewise_center=False,  # pone la media de la entrada a 0 sobre el dataset\n",
    "        samplewise_center=False,  # pone cada media de la muestra a 0\n",
    "        featurewise_std_normalization=False,  # divide las entradas por el STD (desvío estandard) del dataset\n",
    "        samplewise_std_normalization=False,  # divide cada entrada por su STD\n",
    "        zca_whitening=False,  # aplica ZCA whitening (https://en.wikipedia.org/wiki/Whitening_transformation )\n",
    "        rotation_range=10,  # rota aleatoriamente las imanges en el rango (0 a 180 grados)\n",
    "        zoom_range = 0.1, # aleatoriamente enfoca la imagen (zoom)\n",
    "        width_shift_range=0.1,  # aleatoriamente mueve horizontalmente la imange (fracción del total del ancho)\n",
    "        height_shift_range=0.1,  # aleatoriamente mueve la imagen verticalmente (fraccion del total del alto)\n",
    "        horizontal_flip=False,  # aleatoriamente flip(dar vuelta, espejo) la imagen\n",
    "        vertical_flip=False)  # aleatoriamente flip(dar vuelta, espejo) la imagen\n",
    "\n",
    "datagen.fit(X_train)"
   ]
  },
  {
   "cell_type": "markdown",
   "metadata": {
    "_uuid": "fbb34304db16c7e9b9b1f60baad53763ce36ec38"
   },
   "source": [
    "Para el incremento/aumento de datos, se eligión:\n",
    "\n",
    "Aleatoriamente rotar algunas imagenes de entrenamiento 10 grados.\n",
    "Aleatoriamente hacer zoom(enfocar) algunas imagenes de entrenamiento 10%\n",
    "Aleatoriamente move imagenes horizontalmente un 10% del ancho.\n",
    "Aleatoriamente move imagenes verticalmente un 10% del alto\n",
    "No se aplicó el dar vuelta la imange horizontalmente o verticalmente, dado que esto podría causar la incorrecta clasificación de números como 6 o 9.\n",
    "\n",
    "Una vez que el modelo está listo, se ajusta el dataset de entrenamiento."
   ]
  },
  {
   "cell_type": "code",
   "execution_count": 17,
   "metadata": {
    "_uuid": "fbc38ca58aea5da86d84944cbbf882f972c6b859"
   },
   "outputs": [
    {
     "name": "stderr",
     "output_type": "stream",
     "text": [
      "C:\\Users\\usuario\\anaconda3\\envs\\entel\\lib\\site-packages\\tensorflow\\python\\keras\\engine\\training.py:1844: UserWarning: `Model.fit_generator` is deprecated and will be removed in a future version. Please use `Model.fit`, which supports generators.\n",
      "  warnings.warn('`Model.fit_generator` is deprecated and '\n"
     ]
    },
    {
     "name": "stdout",
     "output_type": "stream",
     "text": [
      "Epoch 1/150\n",
      "19/19 - 5s - loss: 2.2032 - accuracy: 0.2660 - val_loss: 2.1524 - val_accuracy: 0.3261\n",
      "Epoch 2/150\n",
      "19/19 - 3s - loss: 2.1451 - accuracy: 0.3223 - val_loss: 2.0788 - val_accuracy: 0.3261\n",
      "Epoch 3/150\n",
      "19/19 - 3s - loss: 2.0996 - accuracy: 0.3325 - val_loss: 2.1792 - val_accuracy: 0.3261\n",
      "Epoch 4/150\n",
      "19/19 - 4s - loss: 2.1148 - accuracy: 0.3231 - val_loss: 2.0412 - val_accuracy: 0.3261\n",
      "\n",
      "Epoch 00004: ReduceLROnPlateau reducing learning rate to 0.0005000000237487257.\n",
      "Epoch 5/150\n",
      "19/19 - 4s - loss: 2.0416 - accuracy: 0.3274 - val_loss: 1.9515 - val_accuracy: 0.3261\n",
      "Epoch 6/150\n",
      "19/19 - 4s - loss: 1.9388 - accuracy: 0.3446 - val_loss: 1.7672 - val_accuracy: 0.3641\n",
      "Epoch 7/150\n",
      "19/19 - 4s - loss: 1.8329 - accuracy: 0.3676 - val_loss: 1.6167 - val_accuracy: 0.4457\n",
      "Epoch 8/150\n",
      "19/19 - 4s - loss: 1.7128 - accuracy: 0.4175 - val_loss: 1.5753 - val_accuracy: 0.3967\n",
      "Epoch 9/150\n",
      "19/19 - 4s - loss: 1.6697 - accuracy: 0.4399 - val_loss: 1.4367 - val_accuracy: 0.5380\n",
      "Epoch 10/150\n",
      "19/19 - 4s - loss: 1.5761 - accuracy: 0.4840 - val_loss: 1.3942 - val_accuracy: 0.5435\n",
      "Epoch 11/150\n",
      "19/19 - 4s - loss: 1.5186 - accuracy: 0.5019 - val_loss: 1.3179 - val_accuracy: 0.5761\n",
      "Epoch 12/150\n",
      "19/19 - 4s - loss: 1.4459 - accuracy: 0.5211 - val_loss: 1.2168 - val_accuracy: 0.6141\n",
      "Epoch 13/150\n",
      "19/19 - 4s - loss: 1.4396 - accuracy: 0.5269 - val_loss: 1.2310 - val_accuracy: 0.6467\n",
      "Epoch 14/150\n",
      "19/19 - 4s - loss: 1.3742 - accuracy: 0.5582 - val_loss: 1.1227 - val_accuracy: 0.6467\n",
      "Epoch 15/150\n",
      "19/19 - 4s - loss: 1.3485 - accuracy: 0.5499 - val_loss: 1.0448 - val_accuracy: 0.6793\n",
      "Epoch 16/150\n",
      "19/19 - 4s - loss: 1.2973 - accuracy: 0.5761 - val_loss: 1.0382 - val_accuracy: 0.7011\n",
      "Epoch 17/150\n",
      "19/19 - 4s - loss: 1.2605 - accuracy: 0.5812 - val_loss: 1.0453 - val_accuracy: 0.6902\n",
      "Epoch 18/150\n",
      "19/19 - 4s - loss: 1.2028 - accuracy: 0.6125 - val_loss: 0.9429 - val_accuracy: 0.7228\n",
      "Epoch 19/150\n",
      "19/19 - 4s - loss: 1.1913 - accuracy: 0.6055 - val_loss: 0.9557 - val_accuracy: 0.7337\n",
      "Epoch 20/150\n",
      "19/19 - 4s - loss: 1.1584 - accuracy: 0.6081 - val_loss: 0.9049 - val_accuracy: 0.7337\n",
      "Epoch 21/150\n",
      "19/19 - 4s - loss: 1.1147 - accuracy: 0.6292 - val_loss: 0.8825 - val_accuracy: 0.7554\n",
      "Epoch 22/150\n",
      "19/19 - 4s - loss: 1.0657 - accuracy: 0.6509 - val_loss: 0.8722 - val_accuracy: 0.7283\n",
      "Epoch 23/150\n",
      "19/19 - 4s - loss: 1.0777 - accuracy: 0.6573 - val_loss: 0.8085 - val_accuracy: 0.7609\n",
      "Epoch 24/150\n",
      "19/19 - 4s - loss: 1.0344 - accuracy: 0.6628 - val_loss: 0.8224 - val_accuracy: 0.7337\n",
      "Epoch 25/150\n",
      "19/19 - 4s - loss: 1.0291 - accuracy: 0.6726 - val_loss: 0.7447 - val_accuracy: 0.7717\n",
      "Epoch 26/150\n",
      "19/19 - 4s - loss: 1.0044 - accuracy: 0.6573 - val_loss: 0.7736 - val_accuracy: 0.7500\n",
      "Epoch 27/150\n",
      "19/19 - 4s - loss: 0.9780 - accuracy: 0.6707 - val_loss: 0.6977 - val_accuracy: 0.7989\n",
      "Epoch 28/150\n",
      "19/19 - 4s - loss: 0.9557 - accuracy: 0.6873 - val_loss: 0.6947 - val_accuracy: 0.7880\n",
      "Epoch 29/150\n",
      "19/19 - 4s - loss: 0.9349 - accuracy: 0.6925 - val_loss: 0.6752 - val_accuracy: 0.8043\n",
      "Epoch 30/150\n",
      "19/19 - 4s - loss: 0.9036 - accuracy: 0.7059 - val_loss: 0.6510 - val_accuracy: 0.8043\n",
      "Epoch 31/150\n",
      "19/19 - 4s - loss: 0.9247 - accuracy: 0.7072 - val_loss: 0.6173 - val_accuracy: 0.8098\n",
      "Epoch 32/150\n",
      "19/19 - 4s - loss: 0.8565 - accuracy: 0.7257 - val_loss: 0.6226 - val_accuracy: 0.7989\n",
      "Epoch 33/150\n",
      "19/19 - 4s - loss: 0.8706 - accuracy: 0.7084 - val_loss: 0.6168 - val_accuracy: 0.8043\n",
      "Epoch 34/150\n",
      "19/19 - 4s - loss: 0.8271 - accuracy: 0.7410 - val_loss: 0.6022 - val_accuracy: 0.8261\n",
      "Epoch 35/150\n",
      "19/19 - 4s - loss: 0.8058 - accuracy: 0.7315 - val_loss: 0.5834 - val_accuracy: 0.8043\n",
      "Epoch 36/150\n",
      "19/19 - 4s - loss: 0.8040 - accuracy: 0.7270 - val_loss: 0.5612 - val_accuracy: 0.8207\n",
      "Epoch 37/150\n",
      "19/19 - 4s - loss: 0.7555 - accuracy: 0.7359 - val_loss: 0.5529 - val_accuracy: 0.8424\n",
      "Epoch 38/150\n",
      "19/19 - 4s - loss: 0.7812 - accuracy: 0.7423 - val_loss: 0.5565 - val_accuracy: 0.8315\n",
      "Epoch 39/150\n",
      "19/19 - 4s - loss: 0.7706 - accuracy: 0.7506 - val_loss: 0.4929 - val_accuracy: 0.8533\n",
      "Epoch 40/150\n",
      "19/19 - 4s - loss: 0.7623 - accuracy: 0.7602 - val_loss: 0.5404 - val_accuracy: 0.8261\n",
      "Epoch 41/150\n",
      "19/19 - 4s - loss: 0.7484 - accuracy: 0.7673 - val_loss: 0.5236 - val_accuracy: 0.8587\n",
      "Epoch 42/150\n",
      "19/19 - 4s - loss: 0.7409 - accuracy: 0.7619 - val_loss: 0.4881 - val_accuracy: 0.8587\n",
      "Epoch 43/150\n",
      "19/19 - 4s - loss: 0.6966 - accuracy: 0.7756 - val_loss: 0.5180 - val_accuracy: 0.8315\n",
      "Epoch 44/150\n",
      "19/19 - 4s - loss: 0.6887 - accuracy: 0.7762 - val_loss: 0.5014 - val_accuracy: 0.8424\n",
      "\n",
      "Epoch 00044: ReduceLROnPlateau reducing learning rate to 0.0002500000118743628.\n",
      "Epoch 45/150\n",
      "19/19 - 4s - loss: 0.6481 - accuracy: 0.7916 - val_loss: 0.4633 - val_accuracy: 0.8696\n",
      "Epoch 46/150\n",
      "19/19 - 4s - loss: 0.6507 - accuracy: 0.7954 - val_loss: 0.4644 - val_accuracy: 0.8641\n",
      "Epoch 47/150\n",
      "19/19 - 4s - loss: 0.6089 - accuracy: 0.8024 - val_loss: 0.4607 - val_accuracy: 0.8641\n",
      "Epoch 48/150\n",
      "19/19 - 4s - loss: 0.6201 - accuracy: 0.8018 - val_loss: 0.4536 - val_accuracy: 0.8587\n",
      "\n",
      "Epoch 00048: ReduceLROnPlateau reducing learning rate to 0.0001250000059371814.\n",
      "Epoch 49/150\n",
      "19/19 - 4s - loss: 0.5870 - accuracy: 0.8054 - val_loss: 0.4420 - val_accuracy: 0.8696\n",
      "Epoch 50/150\n",
      "19/19 - 4s - loss: 0.5759 - accuracy: 0.8171 - val_loss: 0.4454 - val_accuracy: 0.8587\n",
      "Epoch 51/150\n",
      "19/19 - 4s - loss: 0.5709 - accuracy: 0.8107 - val_loss: 0.4341 - val_accuracy: 0.8587\n",
      "\n",
      "Epoch 00051: ReduceLROnPlateau reducing learning rate to 6.25000029685907e-05.\n",
      "Epoch 52/150\n",
      "19/19 - 4s - loss: 0.5651 - accuracy: 0.8114 - val_loss: 0.4322 - val_accuracy: 0.8696\n",
      "Epoch 53/150\n",
      "19/19 - 4s - loss: 0.5399 - accuracy: 0.8203 - val_loss: 0.4318 - val_accuracy: 0.8696\n",
      "Epoch 54/150\n",
      "19/19 - 4s - loss: 0.5119 - accuracy: 0.8453 - val_loss: 0.4379 - val_accuracy: 0.8587\n",
      "\n",
      "Epoch 00054: ReduceLROnPlateau reducing learning rate to 3.125000148429535e-05.\n",
      "Epoch 55/150\n",
      "19/19 - 4s - loss: 0.5577 - accuracy: 0.8184 - val_loss: 0.4286 - val_accuracy: 0.8750\n",
      "Epoch 56/150\n",
      "19/19 - 4s - loss: 0.5388 - accuracy: 0.8242 - val_loss: 0.4277 - val_accuracy: 0.8750\n",
      "Epoch 57/150\n",
      "19/19 - 4s - loss: 0.5470 - accuracy: 0.8216 - val_loss: 0.4220 - val_accuracy: 0.8696\n",
      "Epoch 58/150\n",
      "19/19 - 4s - loss: 0.5364 - accuracy: 0.8280 - val_loss: 0.4258 - val_accuracy: 0.8750\n",
      "\n",
      "Epoch 00058: ReduceLROnPlateau reducing learning rate to 1.5625000742147677e-05.\n",
      "Epoch 59/150\n",
      "19/19 - 4s - loss: 0.5685 - accuracy: 0.8043 - val_loss: 0.4244 - val_accuracy: 0.8804\n",
      "Epoch 60/150\n",
      "19/19 - 4s - loss: 0.5683 - accuracy: 0.8127 - val_loss: 0.4218 - val_accuracy: 0.8750\n",
      "Epoch 61/150\n",
      "19/19 - 4s - loss: 0.5469 - accuracy: 0.8197 - val_loss: 0.4256 - val_accuracy: 0.8750\n",
      "Epoch 62/150\n",
      "19/19 - 4s - loss: 0.5199 - accuracy: 0.8299 - val_loss: 0.4249 - val_accuracy: 0.8750\n",
      "\n",
      "Epoch 00062: ReduceLROnPlateau reducing learning rate to 1e-05.\n",
      "Epoch 63/150\n",
      "19/19 - 4s - loss: 0.5624 - accuracy: 0.8293 - val_loss: 0.4233 - val_accuracy: 0.8750\n",
      "Epoch 64/150\n",
      "19/19 - 4s - loss: 0.5205 - accuracy: 0.8248 - val_loss: 0.4245 - val_accuracy: 0.8696\n",
      "Epoch 65/150\n",
      "19/19 - 4s - loss: 0.5194 - accuracy: 0.8389 - val_loss: 0.4250 - val_accuracy: 0.8696\n",
      "Epoch 66/150\n",
      "19/19 - 4s - loss: 0.5357 - accuracy: 0.8210 - val_loss: 0.4237 - val_accuracy: 0.8696\n",
      "Epoch 67/150\n",
      "19/19 - 4s - loss: 0.5042 - accuracy: 0.8344 - val_loss: 0.4244 - val_accuracy: 0.8750\n",
      "Epoch 68/150\n",
      "19/19 - 4s - loss: 0.5441 - accuracy: 0.8197 - val_loss: 0.4250 - val_accuracy: 0.8750\n",
      "Epoch 69/150\n",
      "19/19 - 4s - loss: 0.5217 - accuracy: 0.8184 - val_loss: 0.4228 - val_accuracy: 0.8750\n",
      "Epoch 70/150\n",
      "19/19 - 4s - loss: 0.5414 - accuracy: 0.8248 - val_loss: 0.4226 - val_accuracy: 0.8750\n",
      "Epoch 71/150\n",
      "19/19 - 4s - loss: 0.5510 - accuracy: 0.8248 - val_loss: 0.4221 - val_accuracy: 0.8750\n",
      "Epoch 72/150\n",
      "19/19 - 4s - loss: 0.5316 - accuracy: 0.8299 - val_loss: 0.4228 - val_accuracy: 0.8750\n",
      "Epoch 73/150\n",
      "19/19 - 4s - loss: 0.5265 - accuracy: 0.8261 - val_loss: 0.4238 - val_accuracy: 0.8750\n",
      "Epoch 74/150\n",
      "19/19 - 4s - loss: 0.5376 - accuracy: 0.8254 - val_loss: 0.4231 - val_accuracy: 0.8750\n",
      "Epoch 75/150\n",
      "19/19 - 5s - loss: 0.5124 - accuracy: 0.8325 - val_loss: 0.4226 - val_accuracy: 0.8750\n",
      "Epoch 76/150\n",
      "19/19 - 4s - loss: 0.5219 - accuracy: 0.8350 - val_loss: 0.4224 - val_accuracy: 0.8750\n",
      "Epoch 77/150\n",
      "19/19 - 4s - loss: 0.5272 - accuracy: 0.8312 - val_loss: 0.4228 - val_accuracy: 0.8750\n",
      "Epoch 78/150\n",
      "19/19 - 4s - loss: 0.5204 - accuracy: 0.8191 - val_loss: 0.4220 - val_accuracy: 0.8750\n",
      "Epoch 79/150\n",
      "19/19 - 5s - loss: 0.5467 - accuracy: 0.8274 - val_loss: 0.4220 - val_accuracy: 0.8750\n",
      "Epoch 80/150\n",
      "19/19 - 4s - loss: 0.5189 - accuracy: 0.8152 - val_loss: 0.4230 - val_accuracy: 0.8750\n",
      "Epoch 81/150\n",
      "19/19 - 4s - loss: 0.5532 - accuracy: 0.8254 - val_loss: 0.4208 - val_accuracy: 0.8750\n",
      "Epoch 82/150\n",
      "19/19 - 4s - loss: 0.5366 - accuracy: 0.8210 - val_loss: 0.4198 - val_accuracy: 0.8750\n",
      "Epoch 83/150\n",
      "19/19 - 4s - loss: 0.5033 - accuracy: 0.8350 - val_loss: 0.4215 - val_accuracy: 0.8750\n",
      "Epoch 84/150\n",
      "19/19 - 4s - loss: 0.5339 - accuracy: 0.8197 - val_loss: 0.4201 - val_accuracy: 0.8750\n",
      "Epoch 85/150\n",
      "19/19 - 4s - loss: 0.5234 - accuracy: 0.8159 - val_loss: 0.4217 - val_accuracy: 0.8750\n",
      "Epoch 86/150\n",
      "19/19 - 4s - loss: 0.5143 - accuracy: 0.8274 - val_loss: 0.4215 - val_accuracy: 0.8750\n",
      "Epoch 87/150\n",
      "19/19 - 4s - loss: 0.5353 - accuracy: 0.8261 - val_loss: 0.4217 - val_accuracy: 0.8750\n",
      "Epoch 88/150\n",
      "19/19 - 4s - loss: 0.5046 - accuracy: 0.8350 - val_loss: 0.4212 - val_accuracy: 0.8750\n",
      "Epoch 89/150\n",
      "19/19 - 4s - loss: 0.5063 - accuracy: 0.8338 - val_loss: 0.4236 - val_accuracy: 0.8750\n",
      "Epoch 90/150\n",
      "19/19 - 4s - loss: 0.5242 - accuracy: 0.8280 - val_loss: 0.4229 - val_accuracy: 0.8750\n",
      "Epoch 91/150\n",
      "19/19 - 4s - loss: 0.5398 - accuracy: 0.8338 - val_loss: 0.4261 - val_accuracy: 0.8750\n",
      "Epoch 92/150\n",
      "19/19 - 5s - loss: 0.5197 - accuracy: 0.8286 - val_loss: 0.4266 - val_accuracy: 0.8804\n",
      "Epoch 93/150\n",
      "19/19 - 4s - loss: 0.5359 - accuracy: 0.8325 - val_loss: 0.4261 - val_accuracy: 0.8750\n",
      "Epoch 94/150\n",
      "19/19 - 4s - loss: 0.5360 - accuracy: 0.8210 - val_loss: 0.4252 - val_accuracy: 0.8804\n",
      "Epoch 95/150\n",
      "19/19 - 5s - loss: 0.5252 - accuracy: 0.8274 - val_loss: 0.4268 - val_accuracy: 0.8804\n",
      "Epoch 96/150\n",
      "19/19 - 5s - loss: 0.5399 - accuracy: 0.8235 - val_loss: 0.4252 - val_accuracy: 0.8804\n",
      "Epoch 97/150\n",
      "19/19 - 4s - loss: 0.5044 - accuracy: 0.8382 - val_loss: 0.4261 - val_accuracy: 0.8750\n",
      "Epoch 98/150\n",
      "19/19 - 4s - loss: 0.5129 - accuracy: 0.8299 - val_loss: 0.4270 - val_accuracy: 0.8750\n",
      "Epoch 99/150\n",
      "19/19 - 4s - loss: 0.5322 - accuracy: 0.8274 - val_loss: 0.4251 - val_accuracy: 0.8804\n",
      "Epoch 100/150\n",
      "19/19 - 4s - loss: 0.4957 - accuracy: 0.8465 - val_loss: 0.4251 - val_accuracy: 0.8804\n",
      "Epoch 101/150\n",
      "19/19 - 4s - loss: 0.5293 - accuracy: 0.8254 - val_loss: 0.4211 - val_accuracy: 0.8804\n",
      "Epoch 102/150\n",
      "19/19 - 4s - loss: 0.5133 - accuracy: 0.8306 - val_loss: 0.4213 - val_accuracy: 0.8804\n",
      "Epoch 103/150\n",
      "19/19 - 4s - loss: 0.5108 - accuracy: 0.8370 - val_loss: 0.4219 - val_accuracy: 0.8804\n",
      "Epoch 104/150\n",
      "19/19 - 4s - loss: 0.5125 - accuracy: 0.8254 - val_loss: 0.4204 - val_accuracy: 0.8804\n",
      "Epoch 105/150\n",
      "19/19 - 4s - loss: 0.5047 - accuracy: 0.8408 - val_loss: 0.4212 - val_accuracy: 0.8804\n",
      "Epoch 106/150\n",
      "19/19 - 4s - loss: 0.4968 - accuracy: 0.8459 - val_loss: 0.4219 - val_accuracy: 0.8804\n",
      "Epoch 107/150\n",
      "19/19 - 4s - loss: 0.5049 - accuracy: 0.8350 - val_loss: 0.4225 - val_accuracy: 0.8804\n",
      "Epoch 108/150\n",
      "19/19 - 4s - loss: 0.5073 - accuracy: 0.8210 - val_loss: 0.4251 - val_accuracy: 0.8750\n",
      "Epoch 109/150\n",
      "19/19 - 4s - loss: 0.5284 - accuracy: 0.8312 - val_loss: 0.4232 - val_accuracy: 0.8804\n",
      "Epoch 110/150\n",
      "19/19 - 4s - loss: 0.4969 - accuracy: 0.8427 - val_loss: 0.4245 - val_accuracy: 0.8804\n",
      "Epoch 111/150\n",
      "19/19 - 4s - loss: 0.5070 - accuracy: 0.8370 - val_loss: 0.4223 - val_accuracy: 0.8804\n",
      "Epoch 112/150\n",
      "19/19 - 4s - loss: 0.5116 - accuracy: 0.8344 - val_loss: 0.4226 - val_accuracy: 0.8804\n",
      "Epoch 113/150\n",
      "19/19 - 4s - loss: 0.5145 - accuracy: 0.8344 - val_loss: 0.4207 - val_accuracy: 0.8804\n",
      "Epoch 114/150\n",
      "19/19 - 4s - loss: 0.5096 - accuracy: 0.8325 - val_loss: 0.4209 - val_accuracy: 0.8804\n",
      "Epoch 115/150\n",
      "19/19 - 4s - loss: 0.5038 - accuracy: 0.8280 - val_loss: 0.4198 - val_accuracy: 0.8804\n",
      "Epoch 116/150\n",
      "19/19 - 4s - loss: 0.5213 - accuracy: 0.8363 - val_loss: 0.4220 - val_accuracy: 0.8804\n",
      "Epoch 117/150\n",
      "19/19 - 4s - loss: 0.5258 - accuracy: 0.8267 - val_loss: 0.4190 - val_accuracy: 0.8804\n",
      "Epoch 118/150\n",
      "19/19 - 4s - loss: 0.5116 - accuracy: 0.8382 - val_loss: 0.4198 - val_accuracy: 0.8804\n",
      "Epoch 119/150\n",
      "19/19 - 4s - loss: 0.5156 - accuracy: 0.8350 - val_loss: 0.4180 - val_accuracy: 0.8804\n",
      "Epoch 120/150\n",
      "19/19 - 4s - loss: 0.4966 - accuracy: 0.8382 - val_loss: 0.4184 - val_accuracy: 0.8804\n",
      "Epoch 121/150\n",
      "19/19 - 4s - loss: 0.4992 - accuracy: 0.8350 - val_loss: 0.4198 - val_accuracy: 0.8804\n",
      "Epoch 122/150\n",
      "19/19 - 5s - loss: 0.5099 - accuracy: 0.8331 - val_loss: 0.4170 - val_accuracy: 0.8804\n",
      "Epoch 123/150\n",
      "19/19 - 5s - loss: 0.5045 - accuracy: 0.8408 - val_loss: 0.4173 - val_accuracy: 0.8804\n",
      "Epoch 124/150\n",
      "19/19 - 4s - loss: 0.5172 - accuracy: 0.8344 - val_loss: 0.4160 - val_accuracy: 0.8804\n",
      "Epoch 125/150\n",
      "19/19 - 5s - loss: 0.5108 - accuracy: 0.8348 - val_loss: 0.4157 - val_accuracy: 0.8804\n",
      "Epoch 126/150\n",
      "19/19 - 4s - loss: 0.5362 - accuracy: 0.8274 - val_loss: 0.4132 - val_accuracy: 0.8804\n",
      "Epoch 127/150\n",
      "19/19 - 4s - loss: 0.5128 - accuracy: 0.8286 - val_loss: 0.4129 - val_accuracy: 0.8804\n",
      "Epoch 128/150\n",
      "19/19 - 4s - loss: 0.4958 - accuracy: 0.8414 - val_loss: 0.4141 - val_accuracy: 0.8804\n",
      "Epoch 129/150\n",
      "19/19 - 4s - loss: 0.4981 - accuracy: 0.8312 - val_loss: 0.4133 - val_accuracy: 0.8804\n",
      "Epoch 130/150\n",
      "19/19 - 4s - loss: 0.4586 - accuracy: 0.8581 - val_loss: 0.4120 - val_accuracy: 0.8804\n",
      "Epoch 131/150\n",
      "19/19 - 4s - loss: 0.5280 - accuracy: 0.8382 - val_loss: 0.4121 - val_accuracy: 0.8804\n",
      "Epoch 132/150\n",
      "19/19 - 4s - loss: 0.5354 - accuracy: 0.8248 - val_loss: 0.4146 - val_accuracy: 0.8804\n",
      "Epoch 133/150\n",
      "19/19 - 5s - loss: 0.5126 - accuracy: 0.8235 - val_loss: 0.4130 - val_accuracy: 0.8804\n",
      "Epoch 134/150\n",
      "19/19 - 4s - loss: 0.5049 - accuracy: 0.8318 - val_loss: 0.4129 - val_accuracy: 0.8804\n",
      "Epoch 135/150\n",
      "19/19 - 4s - loss: 0.5612 - accuracy: 0.8306 - val_loss: 0.4140 - val_accuracy: 0.8804\n",
      "Epoch 136/150\n",
      "19/19 - 4s - loss: 0.5273 - accuracy: 0.8280 - val_loss: 0.4138 - val_accuracy: 0.8804\n",
      "Epoch 137/150\n",
      "19/19 - 4s - loss: 0.5234 - accuracy: 0.8248 - val_loss: 0.4128 - val_accuracy: 0.8804\n",
      "Epoch 138/150\n",
      "19/19 - 4s - loss: 0.4800 - accuracy: 0.8504 - val_loss: 0.4150 - val_accuracy: 0.8804\n",
      "Epoch 139/150\n",
      "19/19 - 4s - loss: 0.5598 - accuracy: 0.8235 - val_loss: 0.4162 - val_accuracy: 0.8804\n",
      "Epoch 140/150\n",
      "19/19 - 4s - loss: 0.5079 - accuracy: 0.8376 - val_loss: 0.4156 - val_accuracy: 0.8804\n",
      "Epoch 141/150\n",
      "19/19 - 4s - loss: 0.5277 - accuracy: 0.8434 - val_loss: 0.4152 - val_accuracy: 0.8804\n",
      "Epoch 142/150\n",
      "19/19 - 4s - loss: 0.5370 - accuracy: 0.8274 - val_loss: 0.4111 - val_accuracy: 0.8804\n",
      "Epoch 143/150\n",
      "19/19 - 4s - loss: 0.4931 - accuracy: 0.8370 - val_loss: 0.4090 - val_accuracy: 0.8804\n",
      "Epoch 144/150\n",
      "19/19 - 4s - loss: 0.4918 - accuracy: 0.8440 - val_loss: 0.4093 - val_accuracy: 0.8859\n",
      "Epoch 145/150\n",
      "19/19 - 4s - loss: 0.4673 - accuracy: 0.8465 - val_loss: 0.4096 - val_accuracy: 0.8859\n",
      "Epoch 146/150\n",
      "19/19 - 4s - loss: 0.5053 - accuracy: 0.8434 - val_loss: 0.4101 - val_accuracy: 0.8859\n",
      "Epoch 147/150\n",
      "19/19 - 4s - loss: 0.4943 - accuracy: 0.8453 - val_loss: 0.4083 - val_accuracy: 0.8859\n",
      "Epoch 148/150\n",
      "19/19 - 4s - loss: 0.4965 - accuracy: 0.8408 - val_loss: 0.4081 - val_accuracy: 0.8804\n",
      "Epoch 149/150\n",
      "19/19 - 4s - loss: 0.5205 - accuracy: 0.8318 - val_loss: 0.4086 - val_accuracy: 0.8859\n",
      "Epoch 150/150\n",
      "19/19 - 4s - loss: 0.5304 - accuracy: 0.8357 - val_loss: 0.4074 - val_accuracy: 0.8859\n"
     ]
    }
   ],
   "source": [
    "# Ajuste del modelo\n",
    "history = model.fit_generator(datagen.flow(X_train,Y_train, batch_size=batch_size),\n",
    "                              epochs = epochs, validation_data = (X_val,Y_val),\n",
    "                              verbose = 2, steps_per_epoch=X_train.shape[0] // batch_size\n",
    "                              , callbacks=[learning_rate_reduction])"
   ]
  },
  {
   "cell_type": "code",
   "execution_count": 18,
   "metadata": {
    "_uuid": "ae5f56fb83932db5b2f3ef1099c3b1b4bee32c91"
   },
   "outputs": [],
   "source": [
    "# Serializar el modelo a JSON\n",
    "model.save(\"../models/model_cnn_recognized_digit.h5\")"
   ]
  },
  {
   "cell_type": "markdown",
   "metadata": {
    "_uuid": "2a77507612fe09a93f7784e99444cab721a20b58"
   },
   "source": [
    "## 4. Evaluación del modelo\n",
    "\n",
    "### 4.1 Curvas de entrenamiento y validación"
   ]
  },
  {
   "cell_type": "code",
   "execution_count": 19,
   "metadata": {
    "_uuid": "f7202661f354dbd9a49a663355775ac51e16e5bf"
   },
   "outputs": [
    {
     "data": {
      "image/png": "[encoded data removed]",
      "text/plain": [
       "<Figure size 432x288 with 2 Axes>"
      ]
     },
     "metadata": {},
     "output_type": "display_data"
    }
   ],
   "source": [
    "# Dibuja las curvas de perdida y precisión para el entrenamiento y validación\n",
    "fig, ax = plt.subplots(2,1)\n",
    "ax[0].plot(history.history['loss'], color='b', label=\"Training loss\")\n",
    "ax[0].plot(history.history['val_loss'], color='r', label=\"validation loss\",axes =ax[0])\n",
    "legend = ax[0].legend(loc='best', shadow=True)\n",
    "\n",
    "ax[1].plot(history.history['accuracy'], color='b', label=\"Training accuracy\")\n",
    "ax[1].plot(history.history['val_accuracy'], color='r',label=\"Validation accuracy\")\n",
    "legend = ax[1].legend(loc='best', shadow=True)"
   ]
  },
  {
   "cell_type": "markdown",
   "metadata": {
    "_uuid": "608d00d630631d88243be0112bf206a50cd7e4c4"
   },
   "source": [
    "El codigo es para dibujar las curvas de perdida y entrenamiento para entrenamiento y validación. Como se asignó epochs = 2 en este notebook. Para un modelo con 30 epocas, el cual puede correr en varias horas (2h30 de acuerdo al articulo original)\n",
    "\n",
    "El modelo alcanza una precisión de 99% (98,7%) en el dataset de validación luego de 2 épocas. La validación  de precisión es mayor que la precisión de entrenamiento casi todo el tiempo durante el entrenamiento. Esto significa que el modelo no sobreajusta el conjunto de datos de entrenamiento.\n",
    "\n",
    "## 4.2 Matriz de confusión\n",
    "\n",
    "La matriz de confusión puede ser muy útil para ver los errores (drawbacks) del modelo.\n",
    "\n",
    "Se dibjua una matriz de confusión de los resultados de la validación."
   ]
  },
  {
   "cell_type": "code",
   "execution_count": 20,
   "metadata": {
    "_uuid": "d158221fbc85f031c6801c34ce58a806578043e8"
   },
   "outputs": [
    {
     "data": {
      "image/png": "[encoded data removed]",
      "text/plain": [
       "<Figure size 432x288 with 2 Axes>"
      ]
     },
     "metadata": {},
     "output_type": "display_data"
    }
   ],
   "source": [
    "# Observe la matriz de confusion \n",
    "\n",
    "def plot_confusion_matrix(cm, classes,\n",
    "                          normalize=False,\n",
    "                          title='Confusion matrix',\n",
    "                          cmap=plt.cm.Blues):\n",
    "    \"\"\"\n",
    "    This function prints and plots the confusion matrix.\n",
    "    Normalization can be applied by setting `normalize=True`.\n",
    "    \"\"\"\n",
    "    plt.imshow(cm, interpolation='nearest', cmap=cmap)\n",
    "    plt.title(title)\n",
    "    plt.colorbar()\n",
    "    tick_marks = np.arange(len(classes))\n",
    "    plt.xticks(tick_marks, classes, rotation=45)\n",
    "    plt.yticks(tick_marks, classes)\n",
    "\n",
    "    if normalize:\n",
    "        cm = cm.astype('float') / cm.sum(axis=1)[:, np.newaxis]\n",
    "\n",
    "    thresh = cm.max() / 2.\n",
    "    for i, j in itertools.product(range(cm.shape[0]), range(cm.shape[1])):\n",
    "        plt.text(j, i, cm[i, j],\n",
    "                 horizontalalignment=\"center\",\n",
    "                 color=\"white\" if cm[i, j] > thresh else \"black\")\n",
    "\n",
    "    plt.tight_layout()\n",
    "    plt.ylabel('True label')\n",
    "    plt.xlabel('Predicted label')\n",
    "\n",
    "# Predice los valores del dataset de validación\n",
    "Y_pred = model.predict(X_val)\n",
    "# Convierte las clases de predicciones a un único vector (one hot vectors)\n",
    "Y_pred_classes = np.argmax(Y_pred,axis = 1) \n",
    "# Convierte las observaciones de validación a un único vector (one hot vectors)\n",
    "Y_true = np.argmax(Y_val,axis = 1) \n",
    "# calcula la matriz de confusion\n",
    "confusion_mtx = confusion_matrix(Y_true, Y_pred_classes) \n",
    "# dibuja la matriz de confusión\n",
    "plot_confusion_matrix(confusion_mtx, classes = range(11)) "
   ]
  },
  {
   "cell_type": "markdown",
   "metadata": {
    "_uuid": "78c0e59374d84f1e0acd6c5d6980b904d25ecde7"
   },
   "source": [
    "Aquí se puede observar que la CNN funciona bien en todos los dígitos con algunos pocos errores considerando el tamañó del dataset de validación (4200 imágenes).\n",
    "\n",
    "Sin embargo, parece que la CNN tiene algunos probelmas con 4 dígitos, que son mal clasificados como 9. A veces es dificil identificar la diferencia entre 4 y 9 cuando las curvas son suaves.\n",
    "\n",
    "Podemos investigar estos errores.\n",
    "\n",
    "Queremos ver los errores más importantes. Para este proposito, se necesita ver la diferencia entre las probalidades del valor real y el valor predicho en los resultados."
   ]
  },
  {
   "cell_type": "code",
   "execution_count": 21,
   "metadata": {
    "_uuid": "796d67e3b9c222cfd1a6ffcfb1e979b0f468e6ae"
   },
   "outputs": [
    {
     "data": {
      "image/png": "[encoded data removed]",
      "text/plain": [
       "<Figure size 432x288 with 6 Axes>"
      ]
     },
     "metadata": {},
     "output_type": "display_data"
    }
   ],
   "source": [
    "# Mostrar algunos errores\n",
    "\n",
    "# Los errores son la diferencia entre el valor predicho y las etiquetas verdaderas.\n",
    "errors = (Y_pred_classes - Y_true != 0)\n",
    "\n",
    "Y_pred_classes_errors = Y_pred_classes[errors]\n",
    "Y_pred_errors = Y_pred[errors]\n",
    "Y_true_errors = Y_true[errors]\n",
    "X_val_errors = X_val[errors]\n",
    "\n",
    "def display_errors(errors_index,img_errors,pred_errors, obs_errors):\n",
    "    \"\"\" This function shows 6 images with their predicted and real labels\"\"\"\n",
    "    n = 0\n",
    "    nrows = 2\n",
    "    ncols = 3\n",
    "    fig, ax = plt.subplots(nrows,ncols,sharex=True,sharey=True)\n",
    "    for row in range(nrows):\n",
    "        for col in range(ncols):\n",
    "            error = errors_index[n]\n",
    "            ax[row,col].imshow((img_errors[error]).reshape((28,28)))\n",
    "            ax[row,col].set_title(\"Predicted label :{}\\nTrue label :{}\".format(pred_errors[error],obs_errors[error]))\n",
    "            n += 1\n",
    "\n",
    "# Probabilidades de los numeros incorrectamente predichos. \n",
    "Y_pred_errors_prob = np.max(Y_pred_errors,axis = 1)\n",
    "\n",
    "# Probabilidades predichas de los valores reales en el conjunto de datos de error\n",
    "true_prob_errors = np.diagonal(np.take(Y_pred_errors, Y_true_errors, axis=1))\n",
    "\n",
    "# Diferencia entre la probabilidad de la etiqueta predicha y la verdadera etiqueta\n",
    "delta_pred_true_errors = Y_pred_errors_prob - true_prob_errors\n",
    "\n",
    "# Lista ordenada de los errores de probabilidad delta\n",
    "sorted_dela_errors = np.argsort(delta_pred_true_errors)\n",
    "\n",
    "# Los 6 errores más importantes\n",
    "most_important_errors = sorted_dela_errors[-6:]\n",
    "\n",
    "# Mostrar los 6 errores más importantes\n",
    "display_errors(most_important_errors, X_val_errors, Y_pred_classes_errors, Y_true_errors)"
   ]
  },
  {
   "cell_type": "markdown",
   "metadata": {
    "_uuid": "f7a038c9b822ae54bafc0888b5ce576ef8a3bbbf"
   },
   "source": [
    "Los errores más importantes son también los mas intrigantes (interesantes)\n",
    "\n",
    "Para estos seis casos, el modelo no es ridículo. Algunos de estos errores puede ser también hechos por humanos, especialmente para el 9 que es muy parecido al 4. El último 9 también es muy confuso, parece un 0.\n",
    "For those six case, the model is not ridiculous. Some of these errors can also be made by humans, especially for one the 9 that is very close to a 4. The last 9 is also very misleading, it seems for me that is a 0."
   ]
  }
 ],
 "metadata": {
  "kernelspec": {
   "display_name": "Python 3",
   "language": "python",
   "name": "python3"
  },
  "language_info": {
   "codemirror_mode": {
    "name": "ipython",
    "version": 3
   },
   "file_extension": ".py",
   "mimetype": "text/x-python",
   "name": "python",
   "nbconvert_exporter": "python",
   "pygments_lexer": "ipython3",
   "version": "3.8.5"
  }
 },
 "nbformat": 4,
 "nbformat_minor": 4
}
