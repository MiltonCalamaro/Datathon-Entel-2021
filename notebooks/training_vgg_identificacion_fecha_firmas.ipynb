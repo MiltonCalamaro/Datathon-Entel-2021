{
 "cells": [
  {
   "cell_type": "markdown",
   "id": "762e986f-e07a-4909-9aed-6364192e3843",
   "metadata": {
    "tags": []
   },
   "source": [
    "## Importar librerías"
   ]
  },
  {
   "cell_type": "code",
   "execution_count": 1,
   "id": "0b3696cb-7b66-482b-8bb4-d837a30b230d",
   "metadata": {
    "id": "0b3696cb-7b66-482b-8bb4-d837a30b230d"
   },
   "outputs": [],
   "source": [
    "from tqdm import tqdm\n",
    "import numpy as np\n",
    "import pandas as pd\n",
    "import os\n",
    "import warnings\n",
    "import cv2\n",
    "warnings.filterwarnings(action='ignore')\n",
    "from tensorflow.keras.applications import VGG16\n",
    "\n",
    "from tensorflow.keras.models import Model\n",
    "from tensorflow.keras.layers import Dropout, Flatten, Dense, GlobalAveragePooling2D \n",
    "from tensorflow.keras.callbacks import ModelCheckpoint, EarlyStopping \n",
    "from tensorflow.keras import optimizers"
   ]
  },
  {
   "cell_type": "markdown",
   "id": "b7c7b0c3-1238-4f83-a355-2bea11640b11",
   "metadata": {},
   "source": [
    "## Definir la arquitectura del modelo\n",
    "Para esta caso se aplicará transfer learning usando el modelo pre-entrenado de VGG-16 agregando dos capas fully conected de 1024 cada uno, con una capa de dropout de 0.5 entre ellos. Al entrenar la presencia del campo del formulario completo y no, se ha optado por una clasificacion binario por eso en la campa de salida, se debe configurar el valor igual 2 y la función de activación sigmoid"
   ]
  },
  {
   "cell_type": "code",
   "execution_count": 2,
   "id": "9ff74d6a-0dab-4a48-bc83-6833912ea228",
   "metadata": {
    "id": "9ff74d6a-0dab-4a48-bc83-6833912ea228"
   },
   "outputs": [],
   "source": [
    "def training_model(x_train, y_train):\n",
    "    ## load the base model of VGG-16 without the last layer\n",
    "    base_model = VGG16(weights=\"imagenet\",\n",
    "                       include_top=False,\n",
    "                       input_shape = (x_train.shape[1], x_train.shape[2], x_train.shape[3]))\n",
    "    X = base_model.output\n",
    "    X = Flatten()(X)\n",
    "    X = Dense(1024, activation=\"relu\")(X)\n",
    "    X = Dropout(rate=0.5)(X)\n",
    "    X = Dense(1024, activation=\"relu\")(X)\n",
    "\n",
    "    output = Dense(1, activation='sigmoid')(X)\n",
    "\n",
    "    model = Model(base_model.input,output)\n",
    "\n",
    "    for layer in model.layers[:]:# [:-5] solo entrena las 5 últimas capa de bgg\n",
    "        layer.trainable = True\n",
    "        \n",
    "    model.compile(optimizer= optimizers.SGD(lr=0.001, momentum=0.9),#Stocastid Gradient Descent #lr=0.001\n",
    "              loss='binary_crossentropy',#\n",
    "              metrics=['accuracy'],\n",
    "            )\n",
    "\n",
    "    model.fit(x_train,\n",
    "              y_train,\n",
    "              epochs= 50,\n",
    "              validation_split = 0.1,\n",
    "              verbose = True) ## verbose = False\n",
    "    return model"
   ]
  },
  {
   "cell_type": "markdown",
   "id": "0a6dce0b-ae3f-46e3-ac1a-35289e1c2462",
   "metadata": {},
   "source": [
    "## Definir la dimension de las imagenes\n",
    "Al hacer pruebas en la conveniencia de eficiencia y velocidad de entrenamiento, se ha optado por lo siguiente."
   ]
  },
  {
   "cell_type": "code",
   "execution_count": 3,
   "id": "9a248269-b38b-4ef2-84f2-3227de79fe36",
   "metadata": {},
   "outputs": [],
   "source": [
    "image_heigth = 56\n",
    "image_width = 128"
   ]
  },
  {
   "cell_type": "markdown",
   "id": "9128c8de-fce7-43bf-a34f-aa9485377203",
   "metadata": {},
   "source": [
    "## Cargar la data"
   ]
  },
  {
   "cell_type": "code",
   "execution_count": 4,
   "id": "c5578877-bd69-4a94-9164-a59976c2cc3e",
   "metadata": {
    "id": "c5578877-bd69-4a94-9164-a59976c2cc3e"
   },
   "outputs": [],
   "source": [
    "def load_dataset(ruta_data):\n",
    "    data = []\n",
    "    for i in tqdm(os.listdir(ruta_data)):\n",
    "        if 'jpg' not in i:\n",
    "            continue\n",
    "        ruta_img = ruta_data + i\n",
    "        image = cv2.imread(ruta_img)\n",
    "        image = cv2.resize(image,(image_width,image_heigth))  \n",
    "        data.append(image)\n",
    "    data = np.array(data)\n",
    "    return data"
   ]
  },
  {
   "cell_type": "code",
   "execution_count": 5,
   "id": "22d6692b-4e04-4c0b-a4b1-7f65d30f2183",
   "metadata": {
    "id": "22d6692b-4e04-4c0b-a4b1-7f65d30f2183"
   },
   "outputs": [],
   "source": [
    "def load_ytrain(ruta_data_train, ruta_label_train, column):\n",
    "    ids = [ i.split('.')[0] for i in os.listdir(ruta_data_train) if 'jpg' in i]\n",
    "    y_train = pd.read_csv(ruta_label_train,keep_default_na=False, encoding = 'utf-8', dtype = 'str')\n",
    "    y_train = y_train.set_index('id').loc[ids]\n",
    "    y_train[column] = y_train[column].astype(int)\n",
    "    y_train = y_train[[column]].copy()\n",
    "    return y_train"
   ]
  },
  {
   "cell_type": "code",
   "execution_count": 6,
   "id": "954c44b7-e8d5-4bdd-8b51-4227b65627a9",
   "metadata": {
    "id": "954c44b7-e8d5-4bdd-8b51-4227b65627a9"
   },
   "outputs": [],
   "source": [
    "ruta_label_train = '../data/output_train.csv'\n",
    "ruta_submit = '../data/sampleSubmission.csv'"
   ]
  },
  {
   "cell_type": "markdown",
   "id": "6ccdea90-5d13-43fa-a7bd-3f078d6bd656",
   "metadata": {},
   "source": [
    "## Entrenamiento de Modelos"
   ]
  },
  {
   "cell_type": "markdown",
   "id": "c8a09983-a39a-4ca0-a681-ba9ef86d1cd6",
   "metadata": {},
   "source": [
    "Se entrenarán cinco modelos para identificar la existencia de cada uno de los campos, es decir, idenficar si existe o no sign_1, sign_2, date_day, date_month, date_year. Donde 1 representa la existencia del campo y 0 caso contrario"
   ]
  },
  {
   "cell_type": "code",
   "execution_count": 21,
   "id": "9af1a342-76db-41d6-8cf9-209876d117d4",
   "metadata": {},
   "outputs": [],
   "source": [
    "# Definir la funcion para guardar los modelos\n",
    "def save_model_custom(model, path):\n",
    "    model_json = model.to_json()\n",
    "    with open(f\"{path}.json\", \"w\") as json_file:\n",
    "        json_file.write(model_json)\n",
    "    # Serializar el modelo a HDF5\n",
    "    model.save_weights(f\"{path}.h5\")"
   ]
  },
  {
   "cell_type": "code",
   "execution_count": 7,
   "id": "0027141c-bdb6-4d8d-9953-fa9e5fc8af68",
   "metadata": {
    "colab": {
     "base_uri": "https://localhost:8080/"
    },
    "id": "0027141c-bdb6-4d8d-9953-fa9e5fc8af68",
    "outputId": "6578f39b-11de-46c7-f71a-2cea8d596ac5"
   },
   "outputs": [
    {
     "name": "stdout",
     "output_type": "stream",
     "text": [
      "######################################## date_year ########################################\n"
     ]
    },
    {
     "name": "stderr",
     "output_type": "stream",
     "text": [
      "100%|██████████| 244/244 [00:00<00:00, 3235.70it/s]\n",
      "100%|██████████| 108/108 [00:00<00:00, 3348.65it/s]"
     ]
    },
    {
     "name": "stdout",
     "output_type": "stream",
     "text": [
      "(243, 56, 128, 3) (243, 1)\n"
     ]
    },
    {
     "name": "stderr",
     "output_type": "stream",
     "text": [
      "\n"
     ]
    },
    {
     "name": "stdout",
     "output_type": "stream",
     "text": [
      "Epoch 1/50\n",
      "7/7 [==============================] - 22s 3s/step - loss: 0.7068 - accuracy: 0.5339 - val_loss: 0.1731 - val_accuracy: 0.9600\n",
      "Epoch 2/50\n",
      "7/7 [==============================] - 20s 3s/step - loss: 0.3288 - accuracy: 0.9168 - val_loss: 0.1685 - val_accuracy: 0.9600\n",
      "Epoch 3/50\n",
      "7/7 [==============================] - 19s 3s/step - loss: 0.2851 - accuracy: 0.9152 - val_loss: 0.2032 - val_accuracy: 0.9600\n",
      "Epoch 4/50\n",
      "7/7 [==============================] - 20s 3s/step - loss: 0.3231 - accuracy: 0.9097 - val_loss: 0.1892 - val_accuracy: 0.9600\n",
      "Epoch 5/50\n",
      "7/7 [==============================] - 20s 3s/step - loss: 0.2880 - accuracy: 0.9188 - val_loss: 0.1686 - val_accuracy: 0.9600\n",
      "Epoch 6/50\n",
      "7/7 [==============================] - 20s 3s/step - loss: 0.2790 - accuracy: 0.9148 - val_loss: 0.1712 - val_accuracy: 0.9600\n",
      "Epoch 7/50\n",
      "7/7 [==============================] - 20s 3s/step - loss: 0.3180 - accuracy: 0.8929 - val_loss: 0.1644 - val_accuracy: 0.9600\n",
      "Epoch 8/50\n",
      "7/7 [==============================] - 20s 3s/step - loss: 0.2886 - accuracy: 0.9005 - val_loss: 0.1587 - val_accuracy: 0.9600\n",
      "Epoch 9/50\n",
      "7/7 [==============================] - 21s 3s/step - loss: 0.2101 - accuracy: 0.9257 - val_loss: 0.1595 - val_accuracy: 0.9600\n",
      "Epoch 10/50\n",
      "7/7 [==============================] - 21s 3s/step - loss: 0.2315 - accuracy: 0.9027 - val_loss: 0.1208 - val_accuracy: 0.9600\n",
      "Epoch 11/50\n",
      "7/7 [==============================] - 22s 3s/step - loss: 0.1976 - accuracy: 0.9075 - val_loss: 0.0877 - val_accuracy: 0.9600\n",
      "Epoch 12/50\n",
      "7/7 [==============================] - 22s 3s/step - loss: 0.1243 - accuracy: 0.9155 - val_loss: 0.0571 - val_accuracy: 0.9600\n",
      "Epoch 13/50\n",
      "7/7 [==============================] - 23s 3s/step - loss: 0.1037 - accuracy: 0.9535 - val_loss: 0.0367 - val_accuracy: 1.0000\n",
      "Epoch 14/50\n",
      "7/7 [==============================] - 22s 3s/step - loss: 0.0607 - accuracy: 0.9946 - val_loss: 0.0196 - val_accuracy: 1.0000\n",
      "Epoch 15/50\n",
      "7/7 [==============================] - 22s 3s/step - loss: 0.0414 - accuracy: 0.9929 - val_loss: 0.0230 - val_accuracy: 1.0000\n",
      "Epoch 16/50\n",
      "7/7 [==============================] - 22s 3s/step - loss: 0.0601 - accuracy: 0.9883 - val_loss: 0.0186 - val_accuracy: 1.0000\n",
      "Epoch 17/50\n",
      "7/7 [==============================] - 22s 3s/step - loss: 0.0175 - accuracy: 1.0000 - val_loss: 0.0062 - val_accuracy: 1.0000\n",
      "Epoch 18/50\n",
      "7/7 [==============================] - 22s 3s/step - loss: 0.0126 - accuracy: 1.0000 - val_loss: 0.0070 - val_accuracy: 1.0000\n",
      "Epoch 19/50\n",
      "7/7 [==============================] - 21s 3s/step - loss: 0.0082 - accuracy: 1.0000 - val_loss: 0.0078 - val_accuracy: 1.0000\n",
      "Epoch 20/50\n",
      "7/7 [==============================] - 21s 3s/step - loss: 0.0101 - accuracy: 1.0000 - val_loss: 0.0247 - val_accuracy: 1.0000\n",
      "Epoch 21/50\n",
      "7/7 [==============================] - 21s 3s/step - loss: 0.0042 - accuracy: 1.0000 - val_loss: 9.1976e-04 - val_accuracy: 1.0000\n",
      "Epoch 22/50\n",
      "7/7 [==============================] - 21s 3s/step - loss: 0.0027 - accuracy: 1.0000 - val_loss: 0.0010 - val_accuracy: 1.0000\n",
      "Epoch 23/50\n",
      "7/7 [==============================] - 21s 3s/step - loss: 0.0041 - accuracy: 1.0000 - val_loss: 0.0336 - val_accuracy: 0.9600\n",
      "Epoch 24/50\n",
      "7/7 [==============================] - 21s 3s/step - loss: 0.0042 - accuracy: 1.0000 - val_loss: 8.8649e-04 - val_accuracy: 1.0000\n",
      "Epoch 25/50\n",
      "7/7 [==============================] - 22s 3s/step - loss: 0.0016 - accuracy: 1.0000 - val_loss: 3.4691e-04 - val_accuracy: 1.0000\n",
      "Epoch 26/50\n",
      "7/7 [==============================] - 21s 3s/step - loss: 0.0024 - accuracy: 1.0000 - val_loss: 0.0056 - val_accuracy: 1.0000\n",
      "Epoch 27/50\n",
      "7/7 [==============================] - 21s 3s/step - loss: 0.0022 - accuracy: 1.0000 - val_loss: 4.6054e-04 - val_accuracy: 1.0000\n",
      "Epoch 28/50\n",
      "7/7 [==============================] - 22s 3s/step - loss: 6.3362e-04 - accuracy: 1.0000 - val_loss: 0.0030 - val_accuracy: 1.0000\n",
      "Epoch 29/50\n",
      "7/7 [==============================] - 22s 3s/step - loss: 7.4573e-04 - accuracy: 1.0000 - val_loss: 0.0038 - val_accuracy: 1.0000\n",
      "Epoch 30/50\n",
      "7/7 [==============================] - 21s 3s/step - loss: 6.1883e-04 - accuracy: 1.0000 - val_loss: 5.3915e-04 - val_accuracy: 1.0000\n",
      "Epoch 31/50\n",
      "7/7 [==============================] - 22s 3s/step - loss: 6.0801e-04 - accuracy: 1.0000 - val_loss: 2.0790e-04 - val_accuracy: 1.0000\n",
      "Epoch 32/50\n",
      "7/7 [==============================] - 21s 3s/step - loss: 4.5288e-04 - accuracy: 1.0000 - val_loss: 1.9833e-04 - val_accuracy: 1.0000\n",
      "Epoch 33/50\n",
      "7/7 [==============================] - 21s 3s/step - loss: 4.3350e-04 - accuracy: 1.0000 - val_loss: 1.6959e-04 - val_accuracy: 1.0000\n",
      "Epoch 34/50\n",
      "7/7 [==============================] - 22s 3s/step - loss: 4.5131e-04 - accuracy: 1.0000 - val_loss: 1.4430e-04 - val_accuracy: 1.0000\n",
      "Epoch 35/50\n",
      "7/7 [==============================] - 23s 3s/step - loss: 2.8408e-04 - accuracy: 1.0000 - val_loss: 1.4868e-04 - val_accuracy: 1.0000\n",
      "Epoch 36/50\n",
      "7/7 [==============================] - 23s 3s/step - loss: 3.2230e-04 - accuracy: 1.0000 - val_loss: 1.6893e-04 - val_accuracy: 1.0000\n",
      "Epoch 37/50\n",
      "7/7 [==============================] - 22s 3s/step - loss: 1.8177e-04 - accuracy: 1.0000 - val_loss: 1.7189e-04 - val_accuracy: 1.0000\n",
      "Epoch 38/50\n",
      "7/7 [==============================] - 25s 4s/step - loss: 2.3517e-04 - accuracy: 1.0000 - val_loss: 1.5921e-04 - val_accuracy: 1.0000\n",
      "Epoch 39/50\n",
      "7/7 [==============================] - 25s 4s/step - loss: 1.7767e-04 - accuracy: 1.0000 - val_loss: 1.4777e-04 - val_accuracy: 1.0000\n",
      "Epoch 40/50\n",
      "7/7 [==============================] - 25s 4s/step - loss: 1.5755e-04 - accuracy: 1.0000 - val_loss: 1.4329e-04 - val_accuracy: 1.0000\n",
      "Epoch 41/50\n",
      "7/7 [==============================] - 25s 4s/step - loss: 1.3497e-04 - accuracy: 1.0000 - val_loss: 1.4769e-04 - val_accuracy: 1.0000\n",
      "Epoch 42/50\n",
      "7/7 [==============================] - 25s 4s/step - loss: 1.3154e-04 - accuracy: 1.0000 - val_loss: 1.2767e-04 - val_accuracy: 1.0000\n",
      "Epoch 43/50\n",
      "7/7 [==============================] - 25s 4s/step - loss: 1.2413e-04 - accuracy: 1.0000 - val_loss: 1.1298e-04 - val_accuracy: 1.0000\n",
      "Epoch 44/50\n",
      "7/7 [==============================] - 25s 4s/step - loss: 1.0533e-04 - accuracy: 1.0000 - val_loss: 1.0998e-04 - val_accuracy: 1.0000\n",
      "Epoch 45/50\n",
      "7/7 [==============================] - 25s 4s/step - loss: 9.4176e-05 - accuracy: 1.0000 - val_loss: 1.0616e-04 - val_accuracy: 1.0000\n",
      "Epoch 46/50\n",
      "7/7 [==============================] - 25s 4s/step - loss: 8.3753e-05 - accuracy: 1.0000 - val_loss: 9.6408e-05 - val_accuracy: 1.0000\n",
      "Epoch 47/50\n",
      "7/7 [==============================] - 25s 4s/step - loss: 1.2913e-04 - accuracy: 1.0000 - val_loss: 8.4907e-05 - val_accuracy: 1.0000\n",
      "Epoch 48/50\n",
      "7/7 [==============================] - 25s 4s/step - loss: 1.8742e-04 - accuracy: 1.0000 - val_loss: 7.6851e-05 - val_accuracy: 1.0000\n",
      "Epoch 49/50\n",
      "7/7 [==============================] - 25s 4s/step - loss: 1.2410e-04 - accuracy: 1.0000 - val_loss: 7.1330e-05 - val_accuracy: 1.0000\n",
      "Epoch 50/50\n",
      "7/7 [==============================] - 25s 4s/step - loss: 9.9452e-05 - accuracy: 1.0000 - val_loss: 6.7088e-05 - val_accuracy: 1.0000\n"
     ]
    }
   ],
   "source": [
    "from sklearn.model_selection import KFold\n",
    "from sklearn.metrics import classification_report\n",
    "import re\n",
    "dict_target = {'sign_1':'firma1','sign_2':'firma2','date_day':'fecha','date_month':'fecha','date_year':'fecha'}\n",
    "list_y_test_column = []\n",
    "for column in dict_target:\n",
    "    print(f'{\"#\"*40} {column} {\"#\"*40}')\n",
    "    ruta_data_train = f'../data/output/image_train_transform/{dict_target[column]}/'\n",
    "    y_train = load_ytrain(ruta_data_train, ruta_label_train, column)\n",
    "    data_train = load_dataset(ruta_data_train)\n",
    "    #print(data_train.shape, data_test.shape)\n",
    "    data_train = data_train/255.0\n",
    "    if dict_target[column] == 'fecha':\n",
    "        y_train[column] = y_train[column].apply(lambda x: 1 if x!=0 else 0)\n",
    "    y_train = y_train.values\n",
    "    \n",
    "    print(data_train.shape, y_train.shape)\n",
    "    model = training_model(data_train, y_train)\n",
    "    save_model_custom(model,f\"../models/model_vgg_identificacion_{column}\")\n",
    "#     model.save(f\"../models/model_vgg_identificacion_{column}.h5\")"
   ]
  },
  {
   "cell_type": "code",
   "execution_count": null,
   "id": "a2e4f1cb-aa40-43cb-8046-5335cc79d47d",
   "metadata": {},
   "outputs": [],
   "source": []
  }
 ],
 "metadata": {
  "accelerator": "GPU",
  "colab": {
   "name": "training_vgg_identificacion_fecha_firmas.ipynb",
   "provenance": []
  },
  "kernelspec": {
   "display_name": "Python 3",
   "language": "python",
   "name": "python3"
  },
  "language_info": {
   "codemirror_mode": {
    "name": "ipython",
    "version": 3
   },
   "file_extension": ".py",
   "mimetype": "text/x-python",
   "name": "python",
   "nbconvert_exporter": "python",
   "pygments_lexer": "ipython3",
   "version": "3.8.5"
  }
 },
 "nbformat": 4,
 "nbformat_minor": 5
}
